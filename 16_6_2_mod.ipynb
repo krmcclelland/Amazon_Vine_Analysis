{
  "cells": [
    {
      "cell_type": "markdown",
      "metadata": {
        "id": "view-in-github",
        "colab_type": "text"
      },
      "source": [
        "<a href=\"https://colab.research.google.com/github/krmcclelland/Amazon_Vine_Analysis/blob/main/16_6_2_mod.ipynb\" target=\"_parent\"><img src=\"https://colab.research.google.com/assets/colab-badge.svg\" alt=\"Open In Colab\"/></a>"
      ]
    },
    {
      "cell_type": "code",
      "execution_count": null,
      "id": "7e0a4428",
      "metadata": {
        "colab": {
          "base_uri": "https://localhost:8080/"
        },
        "id": "7e0a4428",
        "outputId": "b0d93e88-6c2c-4faa-a874-833a499c2b7d"
      },
      "outputs": [
        {
          "output_type": "stream",
          "name": "stdout",
          "text": [
            "\r0% [Working]\r            \rIgn:1 https://developer.download.nvidia.com/compute/cuda/repos/ubuntu1804/x86_64  InRelease\n",
            "\r0% [Connecting to archive.ubuntu.com (91.189.88.142)] [Connecting to security.u\r                                                                               \rIgn:2 https://developer.download.nvidia.com/compute/machine-learning/repos/ubuntu1804/x86_64  InRelease\n",
            "Get:3 https://developer.download.nvidia.com/compute/cuda/repos/ubuntu1804/x86_64  Release [696 B]\n",
            "Hit:4 https://developer.download.nvidia.com/compute/machine-learning/repos/ubuntu1804/x86_64  Release\n",
            "Get:5 http://security.ubuntu.com/ubuntu bionic-security InRelease [88.7 kB]\n",
            "Get:6 https://cloud.r-project.org/bin/linux/ubuntu bionic-cran40/ InRelease [3,626 B]\n",
            "Get:7 https://developer.download.nvidia.com/compute/cuda/repos/ubuntu1804/x86_64  Release.gpg [836 B]\n",
            "Get:8 http://ppa.launchpad.net/c2d4u.team/c2d4u4.0+/ubuntu bionic InRelease [15.9 kB]\n",
            "Hit:9 http://archive.ubuntu.com/ubuntu bionic InRelease\n",
            "Get:10 http://archive.ubuntu.com/ubuntu bionic-updates InRelease [88.7 kB]\n",
            "Hit:11 http://ppa.launchpad.net/cran/libgit2/ubuntu bionic InRelease\n",
            "Get:13 http://archive.ubuntu.com/ubuntu bionic-backports InRelease [74.6 kB]\n",
            "Get:14 http://ppa.launchpad.net/deadsnakes/ppa/ubuntu bionic InRelease [15.9 kB]\n",
            "Get:15 http://ppa.launchpad.net/graphics-drivers/ppa/ubuntu bionic InRelease [21.3 kB]\n",
            "Get:16 https://developer.download.nvidia.com/compute/cuda/repos/ubuntu1804/x86_64  Packages [917 kB]\n",
            "Get:17 http://security.ubuntu.com/ubuntu bionic-security/main amd64 Packages [2,564 kB]\n",
            "Get:18 http://security.ubuntu.com/ubuntu bionic-security/multiverse amd64 Packages [21.1 kB]\n",
            "Get:19 http://security.ubuntu.com/ubuntu bionic-security/restricted amd64 Packages [783 kB]\n",
            "Get:20 http://security.ubuntu.com/ubuntu bionic-security/universe amd64 Packages [1,470 kB]\n",
            "Get:21 http://ppa.launchpad.net/c2d4u.team/c2d4u4.0+/ubuntu bionic/main Sources [1,826 kB]\n",
            "Get:22 http://archive.ubuntu.com/ubuntu bionic-updates/main amd64 Packages [3,004 kB]\n",
            "Get:23 http://ppa.launchpad.net/c2d4u.team/c2d4u4.0+/ubuntu bionic/main amd64 Packages [936 kB]\n",
            "Get:24 http://archive.ubuntu.com/ubuntu bionic-updates/universe amd64 Packages [2,248 kB]\n",
            "Get:25 http://archive.ubuntu.com/ubuntu bionic-updates/multiverse amd64 Packages [29.0 kB]\n",
            "Get:26 http://archive.ubuntu.com/ubuntu bionic-updates/restricted amd64 Packages [816 kB]\n",
            "Get:27 http://ppa.launchpad.net/deadsnakes/ppa/ubuntu bionic/main amd64 Packages [45.3 kB]\n",
            "Get:28 http://ppa.launchpad.net/graphics-drivers/ppa/ubuntu bionic/main amd64 Packages [42.8 kB]\n",
            "Fetched 15.0 MB in 6s (2,314 kB/s)\n",
            "Reading package lists... Done\n"
          ]
        }
      ],
      "source": [
        "# Module 16.6.2 Stop Words\n",
        "import os\n",
        "# Find the latest version of spark 3.0  from http://www.apache.org/dist/spark/ and enter as the spark version\n",
        "# For example:\n",
        "# spark_version = 'spark-3.2.1'\n",
        "spark_version = 'spark-3.2.1'\n",
        "os.environ['SPARK_VERSION']=spark_version\n",
        "\n",
        "# Install Spark and Java\n",
        "!apt-get update\n",
        "!apt-get install openjdk-11-jdk-headless -qq > /dev/null\n",
        "!wget -q http://www.apache.org/dist/spark/$SPARK_VERSION/$SPARK_VERSION-bin-hadoop3.2.tgz\n",
        "!tar xf $SPARK_VERSION-bin-hadoop3.2.tgz\n",
        "!pip install -q findspark\n",
        "\n",
        "# Set Environment Variables\n",
        "import os\n",
        "os.environ[\"JAVA_HOME\"] = \"/usr/lib/jvm/java-11-openjdk-amd64\"\n",
        "os.environ[\"SPARK_HOME\"] = f\"/content/{spark_version}-bin-hadoop3.2\"\n",
        "\n",
        "# Start a SparkSession\n",
        "import findspark\n",
        "findspark.init()"
      ]
    },
    {
      "cell_type": "code",
      "execution_count": null,
      "id": "9445344c",
      "metadata": {
        "id": "9445344c"
      },
      "outputs": [],
      "source": [
        "# Start Spark session\n",
        "from pyspark.sql import SparkSession\n",
        "spark = SparkSession.builder.appName(\"StopWords\").getOrCreate()\n",
        "# Skill Drill 16.6.2 added to make work\n",
        "from pyspark.sql.functions import col, udf\n",
        "from pyspark.sql.types import IntegerType\n",
        "from pyspark.ml.feature import Tokenizer"
      ]
    },
    {
      "cell_type": "code",
      "execution_count": null,
      "id": "ab7189a3",
      "metadata": {
        "id": "ab7189a3"
      },
      "outputs": [],
      "source": [
        "# Create DataFrame\n",
        "sentenceData = spark.createDataFrame([\n",
        "                                      (0, [\"Big\",\"data\",\"is\",\"super\",\"powerful\"]),\n",
        "                                      (1,[\"This\",\"is\",\"going\",\"to\",\"be\",\"epic\"])\n",
        "],[\"id\",\"raw\"])"
      ]
    },
    {
      "cell_type": "code",
      "execution_count": null,
      "id": "1408577c",
      "metadata": {
        "id": "1408577c"
      },
      "outputs": [],
      "source": [
        "# Import stop words library\n",
        "from pyspark.ml.feature import StopWordsRemover"
      ]
    },
    {
      "cell_type": "code",
      "execution_count": null,
      "id": "3fee01f2",
      "metadata": {
        "id": "3fee01f2"
      },
      "outputs": [],
      "source": [
        "# Run the Remover\n",
        "remover = StopWordsRemover(inputCol=\"raw\", outputCol=\"filtered\")"
      ]
    },
    {
      "cell_type": "code",
      "execution_count": null,
      "id": "26c3e18d",
      "metadata": {
        "colab": {
          "base_uri": "https://localhost:8080/"
        },
        "id": "26c3e18d",
        "outputId": "b4af786a-aaaf-4a2b-a8de-187a007df7d2"
      },
      "outputs": [
        {
          "output_type": "stream",
          "name": "stdout",
          "text": [
            "+---+--------------------------------+----------------------------+\n",
            "|id |raw                             |filtered                    |\n",
            "+---+--------------------------------+----------------------------+\n",
            "|0  |[Big, data, is, super, powerful]|[Big, data, super, powerful]|\n",
            "|1  |[This, is, going, to, be, epic] |[going, epic]               |\n",
            "+---+--------------------------------+----------------------------+\n",
            "\n"
          ]
        }
      ],
      "source": [
        "#Tansform and show data\n",
        "remover.transform(sentenceData).show(truncate=False)"
      ]
    },
    {
      "cell_type": "code",
      "execution_count": null,
      "id": "5019a642",
      "metadata": {
        "colab": {
          "base_uri": "https://localhost:8080/"
        },
        "id": "5019a642",
        "outputId": "0fd0beb7-3218-43b2-a8ee-8fc476bb838f"
      },
      "outputs": [
        {
          "output_type": "stream",
          "name": "stdout",
          "text": [
            "+---+--------------------------------------+\n",
            "|id |sentence                              |\n",
            "+---+--------------------------------------+\n",
            "|0  |Spark is great                        |\n",
            "|1  |We are learning Spark                 |\n",
            "|2  |Spark is better than hadoop no doubt  |\n",
            "|3  |Adding a line for skill drill practice|\n",
            "+---+--------------------------------------+\n",
            "\n"
          ]
        }
      ],
      "source": [
        "# Skill Drill 16.6.2 Combine a tokenizer and a stopword remover on a datafram not broken out\n",
        "# Create sample Dataframe\n",
        "dataframe_mod = spark.createDataFrame([\n",
        "                                   (0, \"Spark is great\"),\n",
        "                                   (1, \"We are learning Spark\"),\n",
        "                                   (2, \"Spark is better than hadoop no doubt\"),\n",
        "                                   (3, \"Adding a line for skill drill practice\")\n",
        "],[\"id\",\"sentence\"])\n",
        "dataframe_mod.show(truncate=False)"
      ]
    },
    {
      "cell_type": "code",
      "execution_count": null,
      "id": "34befe9c",
      "metadata": {
        "id": "34befe9c"
      },
      "outputs": [],
      "source": [
        "# Skill Drill 16.6.2 Combine a tokenizer and a stopword remover on a datafram not broken out\n",
        "# Create a function to return the length of a list\n",
        "def word_list_length(word_list):\n",
        "    return len(word_list)\n",
        "# Create a user defined function   \n",
        "count_tokens = udf(word_list_length, IntegerType())"
      ]
    },
    {
      "cell_type": "code",
      "execution_count": null,
      "id": "17d48791",
      "metadata": {
        "colab": {
          "base_uri": "https://localhost:8080/"
        },
        "id": "17d48791",
        "outputId": "3cfbdf60-2158-4b26-c2b1-a8ed02623669"
      },
      "outputs": [
        {
          "output_type": "stream",
          "name": "stdout",
          "text": [
            "+---+--------------------------------------+----------------------------------------------+------+\n",
            "|id |sentence                              |words                                         |tokens|\n",
            "+---+--------------------------------------+----------------------------------------------+------+\n",
            "|0  |Spark is great                        |[spark, is, great]                            |3     |\n",
            "|1  |We are learning Spark                 |[we, are, learning, spark]                    |4     |\n",
            "|2  |Spark is better than hadoop no doubt  |[spark, is, better, than, hadoop, no, doubt]  |7     |\n",
            "|3  |Adding a line for skill drill practice|[adding, a, line, for, skill, drill, practice]|7     |\n",
            "+---+--------------------------------------+----------------------------------------------+------+\n",
            "\n"
          ]
        }
      ],
      "source": [
        "# Skill Drill 16.6.2 Combine a tokenizer and a stopword remover on a datafram not broken out\n",
        "# Create our Tokenizer\n",
        "tokenizer = Tokenizer(inputCol=\"sentence\",outputCol=\"words\")\n",
        "\n",
        "# Transform and show DataFrame\n",
        "dataframe_mod = tokenizer.transform(dataframe_mod)\n",
        "\n",
        "# Select the needed columns and don't truncate results\n",
        "dataframe_mod.withColumn(\"tokens\",count_tokens(col(\"words\"))).show(truncate=False)"
      ]
    },
    {
      "cell_type": "code",
      "execution_count": null,
      "id": "738ac4a3",
      "metadata": {
        "id": "738ac4a3"
      },
      "outputs": [],
      "source": [
        "# Skill Drill 16.6.2 Combine a tokenizer and a stopword remover on a datafram not broken out\n",
        "# Run the Remover\n",
        "remover_mod = StopWordsRemover(inputCol=\"words\", outputCol=\"filtered\")"
      ]
    },
    {
      "cell_type": "code",
      "execution_count": null,
      "id": "bb6946e7",
      "metadata": {
        "colab": {
          "base_uri": "https://localhost:8080/"
        },
        "id": "bb6946e7",
        "outputId": "1d1ba379-c6ea-4d79-dfba-bf3477ab38cb"
      },
      "outputs": [
        {
          "output_type": "stream",
          "name": "stdout",
          "text": [
            "+---+--------------------------------------+----------------------------------------------+--------------------------------------+\n",
            "|id |sentence                              |words                                         |filtered                              |\n",
            "+---+--------------------------------------+----------------------------------------------+--------------------------------------+\n",
            "|0  |Spark is great                        |[spark, is, great]                            |[spark, great]                        |\n",
            "|1  |We are learning Spark                 |[we, are, learning, spark]                    |[learning, spark]                     |\n",
            "|2  |Spark is better than hadoop no doubt  |[spark, is, better, than, hadoop, no, doubt]  |[spark, better, hadoop, doubt]        |\n",
            "|3  |Adding a line for skill drill practice|[adding, a, line, for, skill, drill, practice]|[adding, line, skill, drill, practice]|\n",
            "+---+--------------------------------------+----------------------------------------------+--------------------------------------+\n",
            "\n"
          ]
        }
      ],
      "source": [
        "# Skill Drill 16.6.2 Combine a tokenizer and a stopword remover on a datafram not broken out\n",
        "#Tansform and show data\n",
        "remover_mod.transform(dataframe_mod).show(truncate=False)"
      ]
    }
  ],
  "metadata": {
    "kernelspec": {
      "display_name": "Python 3 (ipykernel)",
      "language": "python",
      "name": "python3"
    },
    "language_info": {
      "codemirror_mode": {
        "name": "ipython",
        "version": 3
      },
      "file_extension": ".py",
      "mimetype": "text/x-python",
      "name": "python",
      "nbconvert_exporter": "python",
      "pygments_lexer": "ipython3",
      "version": "3.9.7"
    },
    "colab": {
      "name": "16.6.2_mod.ipynb",
      "provenance": [],
      "collapsed_sections": [],
      "include_colab_link": true
    }
  },
  "nbformat": 4,
  "nbformat_minor": 5
}