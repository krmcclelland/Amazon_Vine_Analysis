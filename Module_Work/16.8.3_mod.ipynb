{
 "cells": [
  {
   "cell_type": "code",
   "execution_count": null,
   "id": "0bba8498",
   "metadata": {},
   "outputs": [],
   "source": [
    "# 16.8.3 PySpark and S3 Stored Data \n",
    "# skipped couldn't figure out the names and where this was supposed to go \n",
    "template_url = \"https://kmcclelland-databootcamp-bucket.s3.amazonaws.com/<folder-name>/<file-name>\"\n",
    "\n",
    "example_url = \"https://dataviz-curriculum.s3.amazonaws.com/data-folder/data.csv\""
   ]
  }
 ],
 "metadata": {
  "kernelspec": {
   "display_name": "Python 3 (ipykernel)",
   "language": "python",
   "name": "python3"
  },
  "language_info": {
   "codemirror_mode": {
    "name": "ipython",
    "version": 3
   },
   "file_extension": ".py",
   "mimetype": "text/x-python",
   "name": "python",
   "nbconvert_exporter": "python",
   "pygments_lexer": "ipython3",
   "version": "3.9.7"
  }
 },
 "nbformat": 4,
 "nbformat_minor": 5
}
