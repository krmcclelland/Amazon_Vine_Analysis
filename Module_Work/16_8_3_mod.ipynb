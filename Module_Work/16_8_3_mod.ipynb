{
  "cells": [
    {
      "cell_type": "markdown",
      "metadata": {
        "id": "view-in-github",
        "colab_type": "text"
      },
      "source": [
        "<a href=\"https://colab.research.google.com/github/krmcclelland/Amazon_Vine_Analysis/blob/main/16_8_3_mod.ipynb\" target=\"_parent\"><img src=\"https://colab.research.google.com/assets/colab-badge.svg\" alt=\"Open In Colab\"/></a>"
      ]
    },
    {
      "cell_type": "code",
      "execution_count": 1,
      "id": "0bba8498",
      "metadata": {
        "id": "0bba8498"
      },
      "outputs": [],
      "source": [
        "# 16.8.3 PySpark and S3 Stored Data \n",
        "# skipped couldn't figure out the names and where this was supposed to go \n",
        "template_url = \"https://kmcclelland-databootcamp-bucket.s3.amazonaws.com/<folder-name>/<file-name>\"\n",
        "\n",
        "example_url = \"https://dataviz-curriculum.s3.amazonaws.com/data-folder/data.csv\""
      ]
    }
  ],
  "metadata": {
    "kernelspec": {
      "display_name": "Python 3 (ipykernel)",
      "language": "python",
      "name": "python3"
    },
    "language_info": {
      "codemirror_mode": {
        "name": "ipython",
        "version": 3
      },
      "file_extension": ".py",
      "mimetype": "text/x-python",
      "name": "python",
      "nbconvert_exporter": "python",
      "pygments_lexer": "ipython3",
      "version": "3.9.7"
    },
    "colab": {
      "name": "16.8.3_mod.ipynb",
      "provenance": [],
      "include_colab_link": true
    }
  },
  "nbformat": 4,
  "nbformat_minor": 5
}