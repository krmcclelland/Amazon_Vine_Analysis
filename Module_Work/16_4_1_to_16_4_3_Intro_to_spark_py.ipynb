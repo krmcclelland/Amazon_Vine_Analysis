{
  "nbformat": 4,
  "nbformat_minor": 0,
  "metadata": {
    "colab": {
      "name": "Copy of 16.4.1-16.4.3_Intro to spark.py",
      "provenance": [],
      "collapsed_sections": [],
      "authorship_tag": "ABX9TyOnurmcsGNdZTlQI2de460j",
      "include_colab_link": true
    },
    "kernelspec": {
      "name": "python3",
      "display_name": "Python 3"
    },
    "language_info": {
      "name": "python"
    }
  },
  "cells": [
    {
      "cell_type": "markdown",
      "metadata": {
        "id": "view-in-github",
        "colab_type": "text"
      },
      "source": [
        "<a href=\"https://colab.research.google.com/github/krmcclelland/Amazon_Vine_Analysis/blob/main/Copy_of_16_4_1_16_4_3_Intro_to_spark_py.ipynb\" target=\"_parent\"><img src=\"https://colab.research.google.com/assets/colab-badge.svg\" alt=\"Open In Colab\"/></a>"
      ]
    },
    {
      "cell_type": "code",
      "execution_count": null,
      "metadata": {
        "id": "9hqKrH4xrLjt"
      },
      "outputs": [],
      "source": [
        "# Module 16.4.1 PySpark in Google Colab Notebooks\n",
        "import os\n",
        "# Find the latest version of spark 3.0  from http://www.apache.org/dist/spark/ and enter as the spark version\n",
        "# For example:\n",
        "# spark_version = 'spark-3.2.1'\n",
        "spark_version = 'spark-3.2.1'\n",
        "os.environ['SPARK_VERSION']=spark_version"
      ]
    },
    {
      "cell_type": "code",
      "source": [
        "# Install Spark and Java\n",
        "!apt-get update\n",
        "!apt-get install openjdk-11-jdk-headless -qq > /dev/null\n",
        "!wget -q http://www.apache.org/dist/spark/$SPARK_VERSION/$SPARK_VERSION-bin-hadoop3.2.tgz\n",
        "!tar xf $SPARK_VERSION-bin-hadoop3.2.tgz\n",
        "!pip install -q findspark"
      ],
      "metadata": {
        "colab": {
          "base_uri": "https://localhost:8080/"
        },
        "id": "VAO-GBOTuVsm",
        "outputId": "3947d7ca-af26-4bf1-c477-5e6a9cb7eff7"
      },
      "execution_count": null,
      "outputs": [
        {
          "output_type": "stream",
          "name": "stdout",
          "text": [
            "\r0% [Working]\r            \rIgn:1 https://developer.download.nvidia.com/compute/cuda/repos/ubuntu1804/x86_64  InRelease\n",
            "\r0% [Connecting to archive.ubuntu.com] [Waiting for headers] [Waiting for header\r                                                                               \rGet:2 https://cloud.r-project.org/bin/linux/ubuntu bionic-cran40/ InRelease [3,626 B]\n",
            "\r0% [Connecting to archive.ubuntu.com] [Waiting for headers] [2 InRelease 0 B/3,\r0% [Connecting to archive.ubuntu.com] [Waiting for headers] [Connecting to ppa.\r                                                                               \rIgn:3 https://developer.download.nvidia.com/compute/machine-learning/repos/ubuntu1804/x86_64  InRelease\n",
            "\r0% [Connecting to archive.ubuntu.com] [Waiting for headers] [Connecting to ppa.\r0% [2 InRelease gpgv 3,626 B] [Connecting to archive.ubuntu.com] [Waiting for h\r                                                                               \rGet:4 https://developer.download.nvidia.com/compute/cuda/repos/ubuntu1804/x86_64  Release [696 B]\n",
            "\r0% [2 InRelease gpgv 3,626 B] [Connecting to archive.ubuntu.com] [Waiting for h\r0% [2 InRelease gpgv 3,626 B] [Connecting to archive.ubuntu.com] [Waiting for h\r                                                                               \rHit:5 https://developer.download.nvidia.com/compute/machine-learning/repos/ubuntu1804/x86_64  Release\n",
            "\r0% [2 InRelease gpgv 3,626 B] [Connecting to archive.ubuntu.com (91.189.88.152)\r                                                                               \rGet:6 http://security.ubuntu.com/ubuntu bionic-security InRelease [88.7 kB]\n",
            "Get:7 https://developer.download.nvidia.com/compute/cuda/repos/ubuntu1804/x86_64  Release.gpg [836 B]\n",
            "Get:8 http://ppa.launchpad.net/c2d4u.team/c2d4u4.0+/ubuntu bionic InRelease [15.9 kB]\n",
            "Hit:9 http://archive.ubuntu.com/ubuntu bionic InRelease\n",
            "Get:10 http://archive.ubuntu.com/ubuntu bionic-updates InRelease [88.7 kB]\n",
            "Hit:11 http://ppa.launchpad.net/cran/libgit2/ubuntu bionic InRelease\n",
            "Get:12 http://ppa.launchpad.net/deadsnakes/ppa/ubuntu bionic InRelease [15.9 kB]\n",
            "Get:14 http://archive.ubuntu.com/ubuntu bionic-backports InRelease [74.6 kB]\n",
            "Get:15 https://developer.download.nvidia.com/compute/cuda/repos/ubuntu1804/x86_64  Packages [917 kB]\n",
            "Get:16 http://ppa.launchpad.net/graphics-drivers/ppa/ubuntu bionic InRelease [21.3 kB]\n",
            "Get:17 http://security.ubuntu.com/ubuntu bionic-security/multiverse amd64 Packages [21.1 kB]\n",
            "Get:18 http://security.ubuntu.com/ubuntu bionic-security/universe amd64 Packages [1,470 kB]\n",
            "Get:19 http://security.ubuntu.com/ubuntu bionic-security/main amd64 Packages [2,564 kB]\n",
            "Get:20 http://security.ubuntu.com/ubuntu bionic-security/restricted amd64 Packages [783 kB]\n",
            "Get:21 http://ppa.launchpad.net/c2d4u.team/c2d4u4.0+/ubuntu bionic/main Sources [1,826 kB]\n",
            "Get:22 http://archive.ubuntu.com/ubuntu bionic-updates/universe amd64 Packages [2,248 kB]\n",
            "Get:23 http://ppa.launchpad.net/c2d4u.team/c2d4u4.0+/ubuntu bionic/main amd64 Packages [936 kB]\n",
            "Get:24 http://archive.ubuntu.com/ubuntu bionic-updates/main amd64 Packages [3,004 kB]\n",
            "Get:25 http://archive.ubuntu.com/ubuntu bionic-updates/restricted amd64 Packages [816 kB]\n",
            "Get:26 http://archive.ubuntu.com/ubuntu bionic-updates/multiverse amd64 Packages [29.0 kB]\n",
            "Get:27 http://ppa.launchpad.net/deadsnakes/ppa/ubuntu bionic/main amd64 Packages [45.3 kB]\n",
            "Get:28 http://ppa.launchpad.net/graphics-drivers/ppa/ubuntu bionic/main amd64 Packages [42.8 kB]\n",
            "Fetched 15.0 MB in 8s (1,993 kB/s)\n",
            "Reading package lists... Done\n"
          ]
        }
      ]
    },
    {
      "cell_type": "code",
      "source": [
        "# Set Environment Variables\n",
        "import os\n",
        "os.environ[\"JAVA_HOME\"] = \"/usr/lib/jvm/java-11-openjdk-amd64\"\n",
        "os.environ[\"SPARK_HOME\"] = f\"/content/{spark_version}-bin-hadoop3.2\""
      ],
      "metadata": {
        "id": "S4MomaMguR7Y"
      },
      "execution_count": null,
      "outputs": []
    },
    {
      "cell_type": "code",
      "source": [
        "# Start a SparkSession\n",
        "import findspark\n",
        "findspark.init()"
      ],
      "metadata": {
        "id": "d6pe-4dWuLAv"
      },
      "execution_count": null,
      "outputs": []
    },
    {
      "cell_type": "code",
      "source": [
        "# Module 16.4.2 Spark DataFrames and Datasets\n",
        "# Start Spark session\n",
        "from pyspark.sql import SparkSession\n",
        "spark = SparkSession.builder.appName(\"DataFrameBasics\").getOrCreate()"
      ],
      "metadata": {
        "id": "0ZH2kZEBrNn-"
      },
      "execution_count": null,
      "outputs": []
    },
    {
      "cell_type": "code",
      "source": [
        "dataframe = spark.createDataFrame([\n",
        "                                   (0,\"Here is our DataFrame\"),\n",
        "                                   (1, \"We are making one from scratch\"),\n",
        "                                   (2,\"This will look very similar to a Panda DataFrame\")\n",
        "], [\"id\",\"words\"])\n",
        "\n",
        "dataframe.show()"
      ],
      "metadata": {
        "colab": {
          "base_uri": "https://localhost:8080/"
        },
        "id": "-coqWopdrQqp",
        "outputId": "f67815a8-5d1e-44e8-c752-eaace1bc91c1"
      },
      "execution_count": null,
      "outputs": [
        {
          "output_type": "stream",
          "name": "stdout",
          "text": [
            "+---+--------------------+\n",
            "| id|               words|\n",
            "+---+--------------------+\n",
            "|  0|Here is our DataF...|\n",
            "|  1|We are making one...|\n",
            "|  2|This will look ve...|\n",
            "+---+--------------------+\n",
            "\n"
          ]
        }
      ]
    },
    {
      "cell_type": "code",
      "source": [
        "# Read in data from S3 Buckets\n",
        "from pyspark import SparkFiles\n",
        "url = \"https://s3.amazonaws.com/dataviz-curriculum/day_1/food.csv\"\n",
        "spark.sparkContext.addFile(url)"
      ],
      "metadata": {
        "id": "WwjSGJyerTNy"
      },
      "execution_count": null,
      "outputs": []
    },
    {
      "cell_type": "code",
      "source": [
        "# Show DataFrame\n",
        "spark.sparkContext.addFile(url)\n",
        "df = spark.read.csv(SparkFiles.get(\"food.csv\"),sep=\",\", header=True)\n",
        "df.show()"
      ],
      "metadata": {
        "colab": {
          "base_uri": "https://localhost:8080/"
        },
        "id": "HheXBg0VrTc4",
        "outputId": "ea5b8c08-0943-4d79-c6f7-575573e68e26"
      },
      "execution_count": null,
      "outputs": [
        {
          "output_type": "stream",
          "name": "stdout",
          "text": [
            "+-------+-----+\n",
            "|   food|price|\n",
            "+-------+-----+\n",
            "|  pizza|    0|\n",
            "|  sushi|   12|\n",
            "|chinese|   10|\n",
            "+-------+-----+\n",
            "\n"
          ]
        }
      ]
    },
    {
      "cell_type": "code",
      "source": [
        "# Print our schema\n",
        "df.printSchema()"
      ],
      "metadata": {
        "colab": {
          "base_uri": "https://localhost:8080/"
        },
        "id": "A0icga3ZrTmY",
        "outputId": "69886a0f-8241-4da0-e9d4-f5afca709c64"
      },
      "execution_count": null,
      "outputs": [
        {
          "output_type": "stream",
          "name": "stdout",
          "text": [
            "root\n",
            " |-- food: string (nullable = true)\n",
            " |-- price: string (nullable = true)\n",
            "\n"
          ]
        }
      ]
    },
    {
      "cell_type": "code",
      "source": [
        "# Show the columns\n",
        "df.columns"
      ],
      "metadata": {
        "colab": {
          "base_uri": "https://localhost:8080/"
        },
        "id": "oyEdEdKVrTr8",
        "outputId": "48dc5415-358b-4c94-d271-e19e9a382d1d"
      },
      "execution_count": null,
      "outputs": [
        {
          "output_type": "execute_result",
          "data": {
            "text/plain": [
              "['food', 'price']"
            ]
          },
          "metadata": {},
          "execution_count": 10
        }
      ]
    },
    {
      "cell_type": "code",
      "source": [
        "# Describe our data\n",
        "df.describe()"
      ],
      "metadata": {
        "colab": {
          "base_uri": "https://localhost:8080/"
        },
        "id": "tCdG-rYvrTw_",
        "outputId": "02cc5a79-081f-4f42-963d-effc16015e56"
      },
      "execution_count": null,
      "outputs": [
        {
          "output_type": "execute_result",
          "data": {
            "text/plain": [
              "DataFrame[summary: string, food: string, price: string]"
            ]
          },
          "metadata": {},
          "execution_count": 11
        }
      ]
    },
    {
      "cell_type": "code",
      "source": [
        "# Import struct fields that we can use\n",
        "from pyspark.sql.types import StructField, StringType, IntegerType, StructType"
      ],
      "metadata": {
        "id": "Rq8-AdkMrT1h"
      },
      "execution_count": null,
      "outputs": []
    },
    {
      "cell_type": "code",
      "source": [
        "# Next we need to create the list of struct fields\n",
        "schema = [StructField(\"food\", StringType(), True), StructField(\"price\", IntegerType(), True),]\n",
        "schema"
      ],
      "metadata": {
        "colab": {
          "base_uri": "https://localhost:8080/"
        },
        "id": "NcOTHNA7rT53",
        "outputId": "5bbe8d74-3395-4fc6-9a69-d660adcdadd1"
      },
      "execution_count": null,
      "outputs": [
        {
          "output_type": "execute_result",
          "data": {
            "text/plain": [
              "[StructField(food,StringType,true), StructField(price,IntegerType,true)]"
            ]
          },
          "metadata": {},
          "execution_count": 13
        }
      ]
    },
    {
      "cell_type": "code",
      "source": [
        "# Pass in our fields\n",
        "final = StructType(fields=schema)\n",
        "final"
      ],
      "metadata": {
        "colab": {
          "base_uri": "https://localhost:8080/"
        },
        "id": "tjEacvCnrT9n",
        "outputId": "762f7efa-6aeb-41bf-a5ec-cccd2dbb74d1"
      },
      "execution_count": null,
      "outputs": [
        {
          "output_type": "execute_result",
          "data": {
            "text/plain": [
              "StructType(List(StructField(food,StringType,true),StructField(price,IntegerType,true)))"
            ]
          },
          "metadata": {},
          "execution_count": 14
        }
      ]
    },
    {
      "cell_type": "code",
      "source": [
        "# Read our data with our new schema\n",
        "dataframe = spark.read.csv(SparkFiles.get(\"food.csv\"), schema=final, sep=\",\", header=True)\n",
        "dataframe.printSchema()"
      ],
      "metadata": {
        "colab": {
          "base_uri": "https://localhost:8080/"
        },
        "id": "PxQgvY3DrkPM",
        "outputId": "825d6c79-511f-4fd4-a3e3-b989e90bd39f"
      },
      "execution_count": null,
      "outputs": [
        {
          "output_type": "stream",
          "name": "stdout",
          "text": [
            "root\n",
            " |-- food: string (nullable = true)\n",
            " |-- price: integer (nullable = true)\n",
            "\n"
          ]
        }
      ]
    },
    {
      "cell_type": "code",
      "source": [
        "dataframe[\"price\"]"
      ],
      "metadata": {
        "colab": {
          "base_uri": "https://localhost:8080/"
        },
        "id": "mwOUgVvZrkS9",
        "outputId": "5ee20328-6b8e-4cac-8717-493c1cedf39a"
      },
      "execution_count": null,
      "outputs": [
        {
          "output_type": "execute_result",
          "data": {
            "text/plain": [
              "Column<'price'>"
            ]
          },
          "metadata": {},
          "execution_count": 16
        }
      ]
    },
    {
      "cell_type": "code",
      "source": [
        "type(dataframe['price'])"
      ],
      "metadata": {
        "colab": {
          "base_uri": "https://localhost:8080/"
        },
        "id": "wIl2W-_yrkV5",
        "outputId": "5b406714-361c-4269-c413-c523dd941faa"
      },
      "execution_count": null,
      "outputs": [
        {
          "output_type": "execute_result",
          "data": {
            "text/plain": [
              "pyspark.sql.column.Column"
            ]
          },
          "metadata": {},
          "execution_count": 17
        }
      ]
    },
    {
      "cell_type": "code",
      "source": [
        "dataframe.select('price')"
      ],
      "metadata": {
        "colab": {
          "base_uri": "https://localhost:8080/"
        },
        "id": "Y-9AU4tZrkZS",
        "outputId": "14e6d7d2-fbc5-4f75-e35c-40cc5f5411be"
      },
      "execution_count": null,
      "outputs": [
        {
          "output_type": "execute_result",
          "data": {
            "text/plain": [
              "DataFrame[price: int]"
            ]
          },
          "metadata": {},
          "execution_count": 18
        }
      ]
    },
    {
      "cell_type": "code",
      "source": [
        "type(dataframe.select('price'))"
      ],
      "metadata": {
        "colab": {
          "base_uri": "https://localhost:8080/"
        },
        "id": "hslkhdwBrkcb",
        "outputId": "f3345686-2807-43ec-d70c-23bc0d052735"
      },
      "execution_count": null,
      "outputs": [
        {
          "output_type": "execute_result",
          "data": {
            "text/plain": [
              "pyspark.sql.dataframe.DataFrame"
            ]
          },
          "metadata": {},
          "execution_count": 19
        }
      ]
    },
    {
      "cell_type": "code",
      "source": [
        "dataframe.select('price').show()"
      ],
      "metadata": {
        "colab": {
          "base_uri": "https://localhost:8080/"
        },
        "id": "6kHBsxKurkfr",
        "outputId": "80b1c771-99c9-4341-ff1c-5a3cc5c372a7"
      },
      "execution_count": null,
      "outputs": [
        {
          "output_type": "stream",
          "name": "stdout",
          "text": [
            "+-----+\n",
            "|price|\n",
            "+-----+\n",
            "|    0|\n",
            "|   12|\n",
            "|   10|\n",
            "+-----+\n",
            "\n"
          ]
        }
      ]
    },
    {
      "cell_type": "code",
      "source": [
        "# Add new column\n",
        "dataframe.withColumn('newprice', dataframe['price']).show()\n",
        "# Update column name\n",
        "dataframe.withColumnRenamed('price','newerprice').show()\n",
        "# Double the price\n",
        "dataframe.withColumn('doubleprice',dataframe['price']*2).show()\n",
        "# Add a dollar to the price\n",
        "dataframe.withColumn('add_one_dollar',dataframe['price']+1).show()\n",
        "# Half the price\n",
        "dataframe.withColumn('half_price',dataframe['price']/2).show()"
      ],
      "metadata": {
        "colab": {
          "base_uri": "https://localhost:8080/"
        },
        "id": "ExMCiAoRrkjN",
        "outputId": "3129a0d8-ce40-44b5-cfb6-7ec9aff4367c"
      },
      "execution_count": null,
      "outputs": [
        {
          "output_type": "stream",
          "name": "stdout",
          "text": [
            "+-------+-----+--------+\n",
            "|   food|price|newprice|\n",
            "+-------+-----+--------+\n",
            "|  pizza|    0|       0|\n",
            "|  sushi|   12|      12|\n",
            "|chinese|   10|      10|\n",
            "+-------+-----+--------+\n",
            "\n",
            "+-------+----------+\n",
            "|   food|newerprice|\n",
            "+-------+----------+\n",
            "|  pizza|         0|\n",
            "|  sushi|        12|\n",
            "|chinese|        10|\n",
            "+-------+----------+\n",
            "\n",
            "+-------+-----+-----------+\n",
            "|   food|price|doubleprice|\n",
            "+-------+-----+-----------+\n",
            "|  pizza|    0|          0|\n",
            "|  sushi|   12|         24|\n",
            "|chinese|   10|         20|\n",
            "+-------+-----+-----------+\n",
            "\n",
            "+-------+-----+--------------+\n",
            "|   food|price|add_one_dollar|\n",
            "+-------+-----+--------------+\n",
            "|  pizza|    0|             1|\n",
            "|  sushi|   12|            13|\n",
            "|chinese|   10|            11|\n",
            "+-------+-----+--------------+\n",
            "\n",
            "+-------+-----+----------+\n",
            "|   food|price|half_price|\n",
            "+-------+-----+----------+\n",
            "|  pizza|    0|       0.0|\n",
            "|  sushi|   12|       6.0|\n",
            "|chinese|   10|       5.0|\n",
            "+-------+-----+----------+\n",
            "\n"
          ]
        }
      ]
    },
    {
      "cell_type": "code",
      "source": [
        "# Module 16.4.3 Spark Functions\n",
        "# Start Spark session\n",
        "from pyspark.sql import SparkSession\n",
        "spark = SparkSession.builder.appName(\"DataFrameFunctions\").getOrCreate()"
      ],
      "metadata": {
        "id": "UuQQFvrsr1sg"
      },
      "execution_count": null,
      "outputs": []
    },
    {
      "cell_type": "code",
      "source": [
        "# Read in data from S3 Buckets\n",
        "from pyspark import SparkFiles\n",
        "url =\"https://s3.amazonaws.com/dataviz-curriculum/day_1/wine.csv\"\n",
        "spark.sparkContext.addFile(url)\n",
        "df = spark.read.csv(SparkFiles.get(\"wine.csv\"), sep=\",\", header=True)\n",
        "\n",
        "# Show DataFrame\n",
        "df.show()"
      ],
      "metadata": {
        "colab": {
          "base_uri": "https://localhost:8080/"
        },
        "id": "GRn48gBur1wW",
        "outputId": "cd924980-798b-47c0-e4b7-b111e9fe7b44"
      },
      "execution_count": null,
      "outputs": [
        {
          "output_type": "stream",
          "name": "stdout",
          "text": [
            "+-------+--------------------+--------------------+------+-----+------------------+--------------------+-----------------+------------------+--------------------+\n",
            "|country|         description|         designation|points|price|          province|            region_1|         region_2|           variety|              winery|\n",
            "+-------+--------------------+--------------------+------+-----+------------------+--------------------+-----------------+------------------+--------------------+\n",
            "|     US|This tremendous 1...|   Martha's Vineyard|    96|  235|        California|         Napa Valley|             Napa|Cabernet Sauvignon|               Heitz|\n",
            "|  Spain|Ripe aromas of fi...|Carodorum Selecci...|    96|  110|    Northern Spain|                Toro|             null|     Tinta de Toro|Bodega Carmen Rod...|\n",
            "|     US|Mac Watson honors...|Special Selected ...|    96|   90|        California|      Knights Valley|           Sonoma|   Sauvignon Blanc|            Macauley|\n",
            "|     US|This spent 20 mon...|             Reserve|    96|   65|            Oregon|   Willamette Valley|Willamette Valley|        Pinot Noir|               Ponzi|\n",
            "| France|This is the top w...|         La Br��lade|    95|   66|          Provence|              Bandol|             null|Provence red blend|Domaine de la B̩gude|\n",
            "|  Spain|Deep, dense and p...|           Numanthia|    95|   73|    Northern Spain|                Toro|             null|     Tinta de Toro|           Numanthia|\n",
            "|  Spain|Slightly gritty b...|          San Rom��n|    95|   65|    Northern Spain|                Toro|             null|     Tinta de Toro|            Maurodos|\n",
            "|  Spain|Lush cedary black...|Carodorum �_nico ...|    95|  110|    Northern Spain|                Toro|             null|     Tinta de Toro|Bodega Carmen Rod...|\n",
            "|     US|This re-named vin...|              Silice|    95|   65|            Oregon|  Chehalem Mountains|Willamette Valley|        Pinot Noir|           Bergstr̦m|\n",
            "|     US|The producer sour...|Gap's Crown Vineyard|    95|   60|        California|        Sonoma Coast|           Sonoma|        Pinot Noir|           Blue Farm|\n",
            "|  Italy|Elegance, complex...|  Ronco della Chiesa|    95|   80|Northeastern Italy|              Collio|             null|          Friulano|    Borgo del Tiglio|\n",
            "|     US|From 18-year-old ...|Estate Vineyard W...|    95|   48|            Oregon|        Ribbon Ridge|Willamette Valley|        Pinot Noir|Patricia Green Ce...|\n",
            "|     US|A standout even i...|      Weber Vineyard|    95|   48|            Oregon|        Dundee Hills|Willamette Valley|        Pinot Noir|Patricia Green Ce...|\n",
            "| France|This wine is in p...|Ch̢teau Montus Pr...|    95|   90|  Southwest France|             Madiran|             null|            Tannat|   Vignobles Brumont|\n",
            "|     US|With its sophisti...|      Grace Vineyard|    95|  185|            Oregon|        Dundee Hills|Willamette Valley|        Pinot Noir|      Domaine Serene|\n",
            "|     US|First made in 200...|              Sigrid|    95|   90|            Oregon|   Willamette Valley|Willamette Valley|        Chardonnay|           Bergstr̦m|\n",
            "|     US|This blockbuster,...|     Rainin Vineyard|    95|  325|        California|Diamond Mountain ...|             Napa|Cabernet Sauvignon|                Hall|\n",
            "|  Spain|Nicely oaked blac...|6 A̱os Reserva Pr...|    95|   80|    Northern Spain|    Ribera del Duero|             null|       Tempranillo|            Valduero|\n",
            "| France|Coming from a sev...|       Le Pigeonnier|    95|  290|  Southwest France|              Cahors|             null|            Malbec|  Ch̢teau Lagr̩zette|\n",
            "|     US|This fresh and li...|Gap's Crown Vineyard|    95|   75|        California|        Sonoma Coast|           Sonoma|        Pinot Noir|        Gary Farrell|\n",
            "+-------+--------------------+--------------------+------+-----+------------------+--------------------+-----------------+------------------+--------------------+\n",
            "only showing top 20 rows\n",
            "\n"
          ]
        }
      ]
    },
    {
      "cell_type": "code",
      "source": [
        "# Order a DataFrame by ascending values\n",
        "df.orderBy(df[\"points\"].desc())"
      ],
      "metadata": {
        "colab": {
          "base_uri": "https://localhost:8080/"
        },
        "id": "kMS_OhXer1z_",
        "outputId": "0fb1497b-a945-4e39-9eae-4621f42fb5f0"
      },
      "execution_count": null,
      "outputs": [
        {
          "output_type": "execute_result",
          "data": {
            "text/plain": [
              "DataFrame[country: string, description: string, designation: string, points: string, price: string, province: string, region_1: string, region_2: string, variety: string, winery: string]"
            ]
          },
          "metadata": {},
          "execution_count": 24
        }
      ]
    },
    {
      "cell_type": "code",
      "source": [
        "df.orderBy(df[\"points\"].desc()).show(5)"
      ],
      "metadata": {
        "colab": {
          "base_uri": "https://localhost:8080/"
        },
        "id": "jTKpsGSar14U",
        "outputId": "16706eb8-4553-4d98-b16a-ff78e7ad09df"
      },
      "execution_count": null,
      "outputs": [
        {
          "output_type": "stream",
          "name": "stdout",
          "text": [
            "+-------+--------------------+--------------------+------+-----+----------+--------------------+---------------+---------------+--------------------+\n",
            "|country|         description|         designation|points|price|  province|            region_1|       region_2|        variety|              winery|\n",
            "+-------+--------------------+--------------------+------+-----+----------+--------------------+---------------+---------------+--------------------+\n",
            "|  Italy|Here's a ���wow�۝...|            Messorio|    99|  320|   Tuscany|             Toscana|           null|         Merlot|        Le Macchiole|\n",
            "|     US|A stupendous Pino...|Precious Mountain...|    99|   94|California|        Sonoma Coast|         Sonoma|     Pinot Noir|     Williams Selyem|\n",
            "|  Italy|The 2007 Ornellai...|           Ornellaia|    99|  200|   Tuscany|  Bolgheri Superiore|           null|      Red Blend|Tenuta dell'Ornel...|\n",
            "|     US|Depth and texture...|Royal City Stoner...|    99|  140|Washington|Columbia Valley (WA)|Columbia Valley|          Syrah|       Charles Smith|\n",
            "| France|A magnificent Cha...|Dom P̩rignon Oeno...|    99|  385| Champagne|           Champagne|           null|Champagne Blend|     Mo��t & Chandon|\n",
            "+-------+--------------------+--------------------+------+-----+----------+--------------------+---------------+---------------+--------------------+\n",
            "only showing top 5 rows\n",
            "\n"
          ]
        }
      ]
    },
    {
      "cell_type": "code",
      "source": [
        "#Skill Drill 16.4.3\n",
        "df.orderBy(df[\"points\"].asc()).show(50)"
      ],
      "metadata": {
        "colab": {
          "base_uri": "https://localhost:8080/"
        },
        "id": "CIVZ-xhjr17u",
        "outputId": "c53ff878-85f5-4a1a-96e4-989f5e5586f6"
      },
      "execution_count": null,
      "outputs": [
        {
          "output_type": "stream",
          "name": "stdout",
          "text": [
            "+--------------------+--------------------+--------------------+--------------------+--------------------+--------------------+--------------------+--------------------+--------------------+--------------------+\n",
            "|             country|         description|         designation|              points|               price|            province|            region_1|            region_2|             variety|              winery|\n",
            "+--------------------+--------------------+--------------------+--------------------+--------------------+--------------------+--------------------+--------------------+--------------------+--------------------+\n",
            "|                  US|               Ripe |                null|                null|                null|                null|                null|                null|                null|                null|\n",
            "|                  US|Brisk and clean, ...|                null|                null|                null|                null|                null|                null|                null|                null|\n",
            "|                  US|The strong aroma ...|                null|                null|                null|                null|                null|                null|                null|                null|\n",
            "|               Italy|\"This nicely stru...| bitter almond an...|                null|                  88|                  24|  Northeastern Italy|      Venezia Giulia|                null|        Pinot Grigio|\n",
            "|               Italy|This offers gener...|                null|                null|                null|                null|                null|                null|                null|                null|\n",
            "|                  US|This shows a deft...|                null|                null|                null|                null|                null|                null|                null|                null|\n",
            "|           Australia|\"It's beyond me w...| and top it all o...| Sweet Tart aroma...|                null|                  82|                  19|     South Australia|     Langhorne Creek|                null|\n",
            "|           Australia|\"It's beyond me w...| and top it all o...| Sweet Tart aroma...|                null|                  82|                  19|     South Australia|     Langhorne Creek|                null|\n",
            "|           Australia|\"The winery's cel...| break open this ...| and perhaps a li...| wtih dark plum a...| Cab Franc (30%) ...| made nonvintage ...|               Vixen|                  88|                  17|\n",
            "|                  US|\"Rarely does a Ca...|    but here it does| and who should c...| round and delici...|       Grand Reserve|                  93|                  60|          California|          California|\n",
            "|         New Zealand|\"Produced from \"\"...| Riesling offers ...| apple and pear a...| you might expect...| but thanks to cr...| it's not cloying...| well-balanced wi...|Desert Gold Late ...|                  86|\n",
            "|         New Zealand|\"Produced from \"\"...| Riesling offers ...| apple and pear a...| you might expect...| but thanks to cr...| it's not cloying...| well-balanced wi...|Desert Gold Late ...|                  86|\n",
            "|         New Zealand|\"Produced from \"\"...| Riesling offers ...| apple and pear a...| you might expect...| but thanks to cr...| it's not cloying...| well-balanced wi...|Desert Gold Late ...|                  86|\n",
            "|               Italy|\"Made with a blen...| black pepper and...| biodynamic and o...|       Munjebel 7 VA|                  91|                  50|   Sicily & Sardinia|                Etna|                null|\n",
            "|           Australia|\"For the price, t...|\"\" as Australians...| chocolate and ce...| balanced by savo...|     D Block Reserve|                  92|                  50|     South Australia|        McLaren Vale|\n",
            "|                  US|\"Note the \"\"Bened...| from a time when...| cloudy with sedi...|               anise|          sweet beet|          smoky char|          spice. Dry|         full-bodied| rich in dark che...|\n",
            "|                  US|\"Takes all of the...|                plum| coffee and mocha...| a thick texture ...|        Andy's Field|                  89|                  27|            New York|North Fork of Lon...|\n",
            "|                  US|\"Takes all of the...|                plum| coffee and mocha...| a thick texture ...|        Andy's Field|                  89|                  27|            New York|North Fork of Lon...|\n",
            "|                  US|\"The word \"\"black...|              coffee| currant. Cola is...| and creamy and r...| with excellent w...|        Sunshine Vyd|                  93|                  95|          California|\n",
            "|                  US|\"For this winery'...| it shines bright...| espresso bean an...| with just the sl...|                null|                  92|                  35|          California|         Napa Valley|\n",
            "|             Germany|\"This rather rust...| simple and earth...| fermenting-hay n...| continues into t...| it might work wi...|      Qualit�_tswein|                  82|                  12|               Baden|\n",
            "|             Germany|\"This rather rust...| simple and earth...| fermenting-hay n...| continues into t...| it might work wi...|      Qualit�_tswein|                  82|                  12|               Baden|\n",
            "|              France|\"The nose is domi...| and at this poin...|   given the price.\"|         Les Charmes|                  87|                  65|            Burgundy|   Chambolle-Musigny|                null|\n",
            "|              France|\"The nose is domi...| and at this poin...|   given the price.\"|         Les Charmes|                  87|                  65|            Burgundy|   Chambolle-Musigny|                null|\n",
            "|                  US|\"Noceto is a Sang...| which dates back...| good and juicy w...| but also tannic ...|          dusty even| with a hint of m...|OGP - The Origina...|                  88|                  29|\n",
            "|             Austria|         \"\"\"Chremisa|\"\" the ancient na...| is commemorated ...| tangy apple-driv...|       with a bright|               light| citrusy characte...|Edition Chremisa ...|                  85|\n",
            "|                  US|\"I called the '04...| and this wine se...| it suffers from ...| raisiny flavors ...|  Clos Pepe Vineyard|                  82|                  40|          California|     Sta. Rita Hills|\n",
            "|                  US|\"This oddball gra...| concentrated aro...|     kiwi and orange| with a noticeabl...|         big flavors| and a lot of wei...|                null|                  84|                  18|\n",
            "|blackberry and bl...| which is rich in...| smoky oak. But i...|       so drink up.\"|       Artist Series|                  87|                  60|          California|       Sonoma County|              Sonoma|\n",
            "|                  US|\"This Cabernet-Me...| which in this ca...| the wine should ...|Estate Monte Bell...|                  95|                  40|          California|Santa Cruz Mountains|       Central Coast|\n",
            "|           Australia|\"Gemtree's \"\"regu...|        the Obsidian| though the latte...| and good intensi...| smoky flavors po...|               Uncut|                  89|                  28|     South Australia|\n",
            "|            Portugal|\"\"\"New moon on ol...|           ripe wine|       very textured| complex. It has ...|  laced with acidity| very firmly anch...|Lua Nova em Vinha...|                  91|                  15|\n",
            "|           Australia|\"Light green pea ...|             he says| will get more oak.\"|                null|                  87|                  13|     South Australia|        McLaren Vale|                null|\n",
            "|                  US|\"The flagship of ...| chewier finish t...| with aromas and ...|              cassis|             tobacco| cedar and a mult...| starting in 2010...|Limited Release I...|                  93|\n",
            "|                  US|\"The flagship of ...| chewier finish t...| with aromas and ...|              cassis|             tobacco| cedar and a mult...| starting in 2010...|Limited Release I...|                  93|\n",
            "|                  US|\"The flagship of ...| chewier finish t...| with aromas and ...|              cassis|             tobacco| cedar and a mult...| starting in 2010...|Limited Release I...|                  93|\n",
            "|              France|\"A curious connec...| the wine itself ...| with aromas of h...|   layers of acidity|    a touch of toast| but still retain...|  Cuv̩e Pr̩dilection|                  90|                null|\n",
            "|              France|\"A curious connec...| the wine itself ...| with aromas of h...|   layers of acidity|    a touch of toast| but still retain...|  Cuv̩e Pr̩dilection|                  90|                null|\n",
            "|                  US|Impossibly aromat...|            Red Wine|                 100|                 245|          California|          Rutherford|                Napa|      Cabernet Blend|               Sloan|\n",
            "|                  US|In a stunning lin...|En Chamberlin Vin...|                 100|                  65|              Oregon|Walla Walla Valle...|        Oregon Other|               Syrah|              Cayuse|\n",
            "|           Australia|Not a Cellar Sele...|                Rare|                 100|                 300|            Victoria|          Rutherglen|                null|              Muscat|Chambers Rosewood...|\n",
            "|              France|A wine that has c...|      Clos du Mesnil|                 100|                1400|           Champagne|           Champagne|                null|          Chardonnay|                Krug|\n",
            "|                  US|In a stunning lin...|En Chamberlin Vin...|                 100|                  65|              Oregon|Walla Walla Valle...|        Oregon Other|               Syrah|              Cayuse|\n",
            "|                  US|Tasted in a fligh...|                null|                 100|                 200|          California|         Napa Valley|                Napa|  Cabernet Sauvignon|           Cardinale|\n",
            "|                  US|Impossibly aromat...|            Red Wine|                 100|                 245|          California|          Rutherford|                Napa|      Cabernet Blend|               Sloan|\n",
            "|              France|Full of ripe frui...|                null|                 100|                 848|            Bordeaux|      Pessac-L̩ognan|                null|Bordeaux-style Wh...|  Ch̢teau Haut-Brion|\n",
            "|                  US|A perfect score h...|     Hillside Select|                 100|                 215|          California| Stags Leap District|                Napa|  Cabernet Sauvignon|              Shafer|\n",
            "|                  US|A spectacular Pin...|Litton Estate Vin...|                 100|                 100|          California|Russian River Valley|              Sonoma|          Pinot Noir|     Williams Selyem|\n",
            "|           Australia|Not a Cellar Sele...|                Rare|                 100|                 300|            Victoria|          Rutherglen|                null|              Muscat|Chambers Rosewood...|\n",
            "|               Italy|This small, famil...|    Guado de' Gemoli|                 100|                 195|             Tuscany|  Bolgheri Superiore|                null|           Red Blend|  Giovanni Chiappini|\n",
            "+--------------------+--------------------+--------------------+--------------------+--------------------+--------------------+--------------------+--------------------+--------------------+--------------------+\n",
            "only showing top 50 rows\n",
            "\n"
          ]
        }
      ]
    },
    {
      "cell_type": "code",
      "source": [
        "# Import Functions\n",
        "from pyspark.sql.functions import avg \n",
        "df.select(avg(\"points\")).show()"
      ],
      "metadata": {
        "colab": {
          "base_uri": "https://localhost:8080/"
        },
        "id": "noeAZl0Br1_I",
        "outputId": "ac38c4f1-e456-472d-c8ca-4476c47921ea"
      },
      "execution_count": null,
      "outputs": [
        {
          "output_type": "stream",
          "name": "stdout",
          "text": [
            "+-----------------+\n",
            "|      avg(points)|\n",
            "+-----------------+\n",
            "|87.88834105383143|\n",
            "+-----------------+\n",
            "\n"
          ]
        }
      ]
    },
    {
      "cell_type": "code",
      "source": [
        "# Filter SQL method\n",
        "df.filter(\"price<20\").show(5)"
      ],
      "metadata": {
        "colab": {
          "base_uri": "https://localhost:8080/"
        },
        "id": "i-RLxHctr2Cw",
        "outputId": "5aa570a6-5b21-453c-8e23-b3b1fabd62ad"
      },
      "execution_count": null,
      "outputs": [
        {
          "output_type": "stream",
          "name": "stdout",
          "text": [
            "+--------+--------------------+-----------+------+-----+----------+--------------------+-----------------+--------------+--------------------+\n",
            "| country|         description|designation|points|price|  province|            region_1|         region_2|       variety|              winery|\n",
            "+--------+--------------------+-----------+------+-----+----------+--------------------+-----------------+--------------+--------------------+\n",
            "|Bulgaria|This Bulgarian Ma...|    Bergul̩|    90|   15|  Bulgaria|                null|             null|        Mavrud|        Villa Melnik|\n",
            "|   Spain|Earthy plum and c...|     Amandi|    90|   17|   Galicia|       Ribeira Sacra|             null|       Menc�_a|      Don Bernardino|\n",
            "|      US|There's a lot to ...|       null|    90|   18|California|Russian River Valley|           Sonoma|    Chardonnay|            De Loach|\n",
            "|      US|Massively fruity,...|       null|    91|   19|    Oregon|   Willamette Valley|Willamette Valley|    Pinot Gris|   Trinity Vineyards|\n",
            "|Portugal|It is the ripe da...|    Premium|    91|   15|  Alentejo|                null|             null|Portuguese Red|Adega Cooperativa...|\n",
            "+--------+--------------------+-----------+------+-----+----------+--------------------+-----------------+--------------+--------------------+\n",
            "only showing top 5 rows\n",
            "\n"
          ]
        }
      ]
    },
    {
      "cell_type": "code",
      "source": [
        "# Filter Python method\n",
        "df.filter(\"price<20\").show(5)\n",
        "# Filter by price on certain columns\n",
        "df.filter(\"price<20\").select(['points','country', 'winery','price']).show(5)"
      ],
      "metadata": {
        "colab": {
          "base_uri": "https://localhost:8080/"
        },
        "id": "mtDzVSjvsCQY",
        "outputId": "83cc7d21-9ea4-4d92-fdfe-1ec0ac6e78ec"
      },
      "execution_count": null,
      "outputs": [
        {
          "output_type": "stream",
          "name": "stdout",
          "text": [
            "+--------+--------------------+-----------+------+-----+----------+--------------------+-----------------+--------------+--------------------+\n",
            "| country|         description|designation|points|price|  province|            region_1|         region_2|       variety|              winery|\n",
            "+--------+--------------------+-----------+------+-----+----------+--------------------+-----------------+--------------+--------------------+\n",
            "|Bulgaria|This Bulgarian Ma...|    Bergul̩|    90|   15|  Bulgaria|                null|             null|        Mavrud|        Villa Melnik|\n",
            "|   Spain|Earthy plum and c...|     Amandi|    90|   17|   Galicia|       Ribeira Sacra|             null|       Menc�_a|      Don Bernardino|\n",
            "|      US|There's a lot to ...|       null|    90|   18|California|Russian River Valley|           Sonoma|    Chardonnay|            De Loach|\n",
            "|      US|Massively fruity,...|       null|    91|   19|    Oregon|   Willamette Valley|Willamette Valley|    Pinot Gris|   Trinity Vineyards|\n",
            "|Portugal|It is the ripe da...|    Premium|    91|   15|  Alentejo|                null|             null|Portuguese Red|Adega Cooperativa...|\n",
            "+--------+--------------------+-----------+------+-----+----------+--------------------+-----------------+--------------+--------------------+\n",
            "only showing top 5 rows\n",
            "\n",
            "+------+--------+--------------------+-----+\n",
            "|points| country|              winery|price|\n",
            "+------+--------+--------------------+-----+\n",
            "|    90|Bulgaria|        Villa Melnik|   15|\n",
            "|    90|   Spain|      Don Bernardino|   17|\n",
            "|    90|      US|            De Loach|   18|\n",
            "|    91|      US|   Trinity Vineyards|   19|\n",
            "|    91|Portugal|Adega Cooperativa...|   15|\n",
            "+------+--------+--------------------+-----+\n",
            "only showing top 5 rows\n",
            "\n"
          ]
        }
      ]
    },
    {
      "cell_type": "code",
      "source": [
        "# Filter on exact state\n",
        "df.filter(df[\"country\"] == \"US\").show()"
      ],
      "metadata": {
        "colab": {
          "base_uri": "https://localhost:8080/"
        },
        "id": "4v7-bdB-sC8N",
        "outputId": "6aba92f2-c8c7-4eb1-9705-a7654ded044b"
      },
      "execution_count": null,
      "outputs": [
        {
          "output_type": "stream",
          "name": "stdout",
          "text": [
            "+-------+--------------------+--------------------+------+-----+----------+--------------------+-----------------+------------------+--------------------+\n",
            "|country|         description|         designation|points|price|  province|            region_1|         region_2|           variety|              winery|\n",
            "+-------+--------------------+--------------------+------+-----+----------+--------------------+-----------------+------------------+--------------------+\n",
            "|     US|This tremendous 1...|   Martha's Vineyard|    96|  235|California|         Napa Valley|             Napa|Cabernet Sauvignon|               Heitz|\n",
            "|     US|Mac Watson honors...|Special Selected ...|    96|   90|California|      Knights Valley|           Sonoma|   Sauvignon Blanc|            Macauley|\n",
            "|     US|This spent 20 mon...|             Reserve|    96|   65|    Oregon|   Willamette Valley|Willamette Valley|        Pinot Noir|               Ponzi|\n",
            "|     US|This re-named vin...|              Silice|    95|   65|    Oregon|  Chehalem Mountains|Willamette Valley|        Pinot Noir|           Bergstr̦m|\n",
            "|     US|The producer sour...|Gap's Crown Vineyard|    95|   60|California|        Sonoma Coast|           Sonoma|        Pinot Noir|           Blue Farm|\n",
            "|     US|From 18-year-old ...|Estate Vineyard W...|    95|   48|    Oregon|        Ribbon Ridge|Willamette Valley|        Pinot Noir|Patricia Green Ce...|\n",
            "|     US|A standout even i...|      Weber Vineyard|    95|   48|    Oregon|        Dundee Hills|Willamette Valley|        Pinot Noir|Patricia Green Ce...|\n",
            "|     US|With its sophisti...|      Grace Vineyard|    95|  185|    Oregon|        Dundee Hills|Willamette Valley|        Pinot Noir|      Domaine Serene|\n",
            "|     US|First made in 200...|              Sigrid|    95|   90|    Oregon|   Willamette Valley|Willamette Valley|        Chardonnay|           Bergstr̦m|\n",
            "|     US|This blockbuster,...|     Rainin Vineyard|    95|  325|California|Diamond Mountain ...|             Napa|Cabernet Sauvignon|                Hall|\n",
            "|     US|This fresh and li...|Gap's Crown Vineyard|    95|   75|California|        Sonoma Coast|           Sonoma|        Pinot Noir|        Gary Farrell|\n",
            "|     US|Heitz has made th...|          Grignolino|    95|   24|California|         Napa Valley|             Napa|              Ros̩|               Heitz|\n",
            "|     US|The apogee of thi...|       Giallo Solare|    95|   60|California|         Edna Valley|    Central Coast|        Chardonnay|    Center of Effort|\n",
            "|     US|San Jose-based pr...|       R-Bar-R Ranch|    95|   45|California|Santa Cruz Mountains|    Central Coast|        Pinot Noir|            Comartin|\n",
            "|     US|Bergstr̦m has mad...|       Shea Vineyard|    94|   62|    Oregon|   Willamette Valley|             null|        Pinot Noir|           Bergstr̦m|\n",
            "|     US|Focused and dense...|             Abetina|    94|  105|    Oregon|   Willamette Valley|Willamette Valley|        Pinot Noir|               Ponzi|\n",
            "|     US|Cranberry, baked ...|     Garys' Vineyard|    94|   60|California|Santa Lucia Highl...|    Central Coast|        Pinot Noir|                Roar|\n",
            "|     US|This standout Roc...|     The Funk Estate|    94|   60|Washington|Walla Walla Valle...|  Columbia Valley|             Syrah|              Saviah|\n",
            "|     US|Steely and perfum...|            Babushka|    90|   37|California|Russian River Valley|           Sonoma|        Chardonnay|            Zepaltas|\n",
            "|     US|The aromas entice...| Conner Lee Vineyard|    90|   42|Washington|Columbia Valley (WA)|  Columbia Valley|        Chardonnay|                Buty|\n",
            "+-------+--------------------+--------------------+------+-----+----------+--------------------+-----------------+------------------+--------------------+\n",
            "only showing top 20 rows\n",
            "\n"
          ]
        }
      ]
    },
    {
      "cell_type": "code",
      "source": [
        "# Skill Drill 16.4.3 \n",
        "# Filter Python method\n",
        "df.filter(\"price>15\").show(5)\n",
        "# Filter by price on certain columns\n",
        "df.filter(\"price>15\").select(['points','country', 'winery','price']).show(5)\n",
        "\n",
        "# Filter on exact state\n",
        "df.filter(df[\"province\"] == \"California\").show()"
      ],
      "metadata": {
        "colab": {
          "base_uri": "https://localhost:8080/"
        },
        "id": "4jVdTwsdsDFJ",
        "outputId": "640b9ac2-c0f7-4337-a2b2-82601179b211"
      },
      "execution_count": null,
      "outputs": [
        {
          "output_type": "stream",
          "name": "stdout",
          "text": [
            "+-------+--------------------+--------------------+------+-----+--------------+-----------------+-----------------+------------------+--------------------+\n",
            "|country|         description|         designation|points|price|      province|         region_1|         region_2|           variety|              winery|\n",
            "+-------+--------------------+--------------------+------+-----+--------------+-----------------+-----------------+------------------+--------------------+\n",
            "|     US|This tremendous 1...|   Martha's Vineyard|    96|  235|    California|      Napa Valley|             Napa|Cabernet Sauvignon|               Heitz|\n",
            "|  Spain|Ripe aromas of fi...|Carodorum Selecci...|    96|  110|Northern Spain|             Toro|             null|     Tinta de Toro|Bodega Carmen Rod...|\n",
            "|     US|Mac Watson honors...|Special Selected ...|    96|   90|    California|   Knights Valley|           Sonoma|   Sauvignon Blanc|            Macauley|\n",
            "|     US|This spent 20 mon...|             Reserve|    96|   65|        Oregon|Willamette Valley|Willamette Valley|        Pinot Noir|               Ponzi|\n",
            "| France|This is the top w...|         La Br��lade|    95|   66|      Provence|           Bandol|             null|Provence red blend|Domaine de la B̩gude|\n",
            "+-------+--------------------+--------------------+------+-----+--------------+-----------------+-----------------+------------------+--------------------+\n",
            "only showing top 5 rows\n",
            "\n",
            "+------+-------+--------------------+-----+\n",
            "|points|country|              winery|price|\n",
            "+------+-------+--------------------+-----+\n",
            "|    96|     US|               Heitz|  235|\n",
            "|    96|  Spain|Bodega Carmen Rod...|  110|\n",
            "|    96|     US|            Macauley|   90|\n",
            "|    96|     US|               Ponzi|   65|\n",
            "|    95| France|Domaine de la B̩gude|   66|\n",
            "+------+-------+--------------------+-----+\n",
            "only showing top 5 rows\n",
            "\n",
            "+-------+--------------------+--------------------+------+-----+----------+--------------------+-------------+------------------+--------------------+\n",
            "|country|         description|         designation|points|price|  province|            region_1|     region_2|           variety|              winery|\n",
            "+-------+--------------------+--------------------+------+-----+----------+--------------------+-------------+------------------+--------------------+\n",
            "|     US|This tremendous 1...|   Martha's Vineyard|    96|  235|California|         Napa Valley|         Napa|Cabernet Sauvignon|               Heitz|\n",
            "|     US|Mac Watson honors...|Special Selected ...|    96|   90|California|      Knights Valley|       Sonoma|   Sauvignon Blanc|            Macauley|\n",
            "|     US|The producer sour...|Gap's Crown Vineyard|    95|   60|California|        Sonoma Coast|       Sonoma|        Pinot Noir|           Blue Farm|\n",
            "|     US|This blockbuster,...|     Rainin Vineyard|    95|  325|California|Diamond Mountain ...|         Napa|Cabernet Sauvignon|                Hall|\n",
            "|     US|This fresh and li...|Gap's Crown Vineyard|    95|   75|California|        Sonoma Coast|       Sonoma|        Pinot Noir|        Gary Farrell|\n",
            "|     US|Heitz has made th...|          Grignolino|    95|   24|California|         Napa Valley|         Napa|              Ros̩|               Heitz|\n",
            "|     US|The apogee of thi...|       Giallo Solare|    95|   60|California|         Edna Valley|Central Coast|        Chardonnay|    Center of Effort|\n",
            "|     US|San Jose-based pr...|       R-Bar-R Ranch|    95|   45|California|Santa Cruz Mountains|Central Coast|        Pinot Noir|            Comartin|\n",
            "|     US|Cranberry, baked ...|     Garys' Vineyard|    94|   60|California|Santa Lucia Highl...|Central Coast|        Pinot Noir|                Roar|\n",
            "|     US|Steely and perfum...|            Babushka|    90|   37|California|Russian River Valley|       Sonoma|        Chardonnay|            Zepaltas|\n",
            "|     US|Blended with 9% M...|        Estate Grown|    90|   60|California|        Mount Veeder|         Napa|Cabernet Sauvignon|            Brandlin|\n",
            "|     US|There's a lot to ...|                null|    90|   18|California|Russian River Valley|       Sonoma|        Chardonnay|            De Loach|\n",
            "|     US|Fresh boysenberri...|       Estate Select|    91|   36|California|  Santa Clara Valley|Central Coast|             Syrah|      Jason-Stephens|\n",
            "|     US|From the producer...|               Animo|    91|   85|California|         Napa Valley|         Napa|Cabernet Sauvignon|Michael Mondavi F...|\n",
            "|     US|A juiciness of ch...|       Barrel Select|    91|   60|California|          Rutherford|         Napa|Cabernet Sauvignon|Provenance Vineyards|\n",
            "|     US|Sweetened tannins...| District Collection|    91|   85|California|          St. Helena|         Napa|Cabernet Sauvignon|             Raymond|\n",
            "|     US|This wine draws f...|                null|    91|   45|California|        Sonoma Coast|       Sonoma|        Pinot Noir|             Red Car|\n",
            "|     US|Given four months...|    Juliana Vineyard|    91|   38|California|         Napa Valley|         Napa|   Sauvignon Blanc|           B Cellars|\n",
            "|     US|This wine over-de...|                null|    91|   28|California|         Napa Valley|         Napa|Cabernet Sauvignon|              B Side|\n",
            "|     US|From a multiplici...|                null|    91|   22|California|         Napa Valley|         Napa|Cabernet Sauvignon|          Eagle Glen|\n",
            "+-------+--------------------+--------------------+------+-----+----------+--------------------+-------------+------------------+--------------------+\n",
            "only showing top 20 rows\n",
            "\n"
          ]
        }
      ]
    },
    {
      "cell_type": "code",
      "source": [
        "# Skill Drill 16.4.3 \n",
        "# Filter Python method\n",
        "df.filter(\"price>15\").show(5)\n",
        "# Filter by price on certain columns\n",
        "df.filter(\"price>15\").select(['points','country', 'winery','price']).show(5)\n",
        "\n",
        "# Filter on exact state\n",
        "df.filter(df[\"province\"] == \"California\").show()"
      ],
      "metadata": {
        "colab": {
          "base_uri": "https://localhost:8080/"
        },
        "id": "DZBpPxMmsDKv",
        "outputId": "c9611d04-caec-4618-e3a8-411069d79e02"
      },
      "execution_count": null,
      "outputs": [
        {
          "output_type": "stream",
          "name": "stdout",
          "text": [
            "+-------+--------------------+--------------------+------+-----+--------------+-----------------+-----------------+------------------+--------------------+\n",
            "|country|         description|         designation|points|price|      province|         region_1|         region_2|           variety|              winery|\n",
            "+-------+--------------------+--------------------+------+-----+--------------+-----------------+-----------------+------------------+--------------------+\n",
            "|     US|This tremendous 1...|   Martha's Vineyard|    96|  235|    California|      Napa Valley|             Napa|Cabernet Sauvignon|               Heitz|\n",
            "|  Spain|Ripe aromas of fi...|Carodorum Selecci...|    96|  110|Northern Spain|             Toro|             null|     Tinta de Toro|Bodega Carmen Rod...|\n",
            "|     US|Mac Watson honors...|Special Selected ...|    96|   90|    California|   Knights Valley|           Sonoma|   Sauvignon Blanc|            Macauley|\n",
            "|     US|This spent 20 mon...|             Reserve|    96|   65|        Oregon|Willamette Valley|Willamette Valley|        Pinot Noir|               Ponzi|\n",
            "| France|This is the top w...|         La Br��lade|    95|   66|      Provence|           Bandol|             null|Provence red blend|Domaine de la B̩gude|\n",
            "+-------+--------------------+--------------------+------+-----+--------------+-----------------+-----------------+------------------+--------------------+\n",
            "only showing top 5 rows\n",
            "\n",
            "+------+-------+--------------------+-----+\n",
            "|points|country|              winery|price|\n",
            "+------+-------+--------------------+-----+\n",
            "|    96|     US|               Heitz|  235|\n",
            "|    96|  Spain|Bodega Carmen Rod...|  110|\n",
            "|    96|     US|            Macauley|   90|\n",
            "|    96|     US|               Ponzi|   65|\n",
            "|    95| France|Domaine de la B̩gude|   66|\n",
            "+------+-------+--------------------+-----+\n",
            "only showing top 5 rows\n",
            "\n",
            "+-------+--------------------+--------------------+------+-----+----------+--------------------+-------------+------------------+--------------------+\n",
            "|country|         description|         designation|points|price|  province|            region_1|     region_2|           variety|              winery|\n",
            "+-------+--------------------+--------------------+------+-----+----------+--------------------+-------------+------------------+--------------------+\n",
            "|     US|This tremendous 1...|   Martha's Vineyard|    96|  235|California|         Napa Valley|         Napa|Cabernet Sauvignon|               Heitz|\n",
            "|     US|Mac Watson honors...|Special Selected ...|    96|   90|California|      Knights Valley|       Sonoma|   Sauvignon Blanc|            Macauley|\n",
            "|     US|The producer sour...|Gap's Crown Vineyard|    95|   60|California|        Sonoma Coast|       Sonoma|        Pinot Noir|           Blue Farm|\n",
            "|     US|This blockbuster,...|     Rainin Vineyard|    95|  325|California|Diamond Mountain ...|         Napa|Cabernet Sauvignon|                Hall|\n",
            "|     US|This fresh and li...|Gap's Crown Vineyard|    95|   75|California|        Sonoma Coast|       Sonoma|        Pinot Noir|        Gary Farrell|\n",
            "|     US|Heitz has made th...|          Grignolino|    95|   24|California|         Napa Valley|         Napa|              Ros̩|               Heitz|\n",
            "|     US|The apogee of thi...|       Giallo Solare|    95|   60|California|         Edna Valley|Central Coast|        Chardonnay|    Center of Effort|\n",
            "|     US|San Jose-based pr...|       R-Bar-R Ranch|    95|   45|California|Santa Cruz Mountains|Central Coast|        Pinot Noir|            Comartin|\n",
            "|     US|Cranberry, baked ...|     Garys' Vineyard|    94|   60|California|Santa Lucia Highl...|Central Coast|        Pinot Noir|                Roar|\n",
            "|     US|Steely and perfum...|            Babushka|    90|   37|California|Russian River Valley|       Sonoma|        Chardonnay|            Zepaltas|\n",
            "|     US|Blended with 9% M...|        Estate Grown|    90|   60|California|        Mount Veeder|         Napa|Cabernet Sauvignon|            Brandlin|\n",
            "|     US|There's a lot to ...|                null|    90|   18|California|Russian River Valley|       Sonoma|        Chardonnay|            De Loach|\n",
            "|     US|Fresh boysenberri...|       Estate Select|    91|   36|California|  Santa Clara Valley|Central Coast|             Syrah|      Jason-Stephens|\n",
            "|     US|From the producer...|               Animo|    91|   85|California|         Napa Valley|         Napa|Cabernet Sauvignon|Michael Mondavi F...|\n",
            "|     US|A juiciness of ch...|       Barrel Select|    91|   60|California|          Rutherford|         Napa|Cabernet Sauvignon|Provenance Vineyards|\n",
            "|     US|Sweetened tannins...| District Collection|    91|   85|California|          St. Helena|         Napa|Cabernet Sauvignon|             Raymond|\n",
            "|     US|This wine draws f...|                null|    91|   45|California|        Sonoma Coast|       Sonoma|        Pinot Noir|             Red Car|\n",
            "|     US|Given four months...|    Juliana Vineyard|    91|   38|California|         Napa Valley|         Napa|   Sauvignon Blanc|           B Cellars|\n",
            "|     US|This wine over-de...|                null|    91|   28|California|         Napa Valley|         Napa|Cabernet Sauvignon|              B Side|\n",
            "|     US|From a multiplici...|                null|    91|   22|California|         Napa Valley|         Napa|Cabernet Sauvignon|          Eagle Glen|\n",
            "+-------+--------------------+--------------------+------+-----+----------+--------------------+-------------+------------------+--------------------+\n",
            "only showing top 20 rows\n",
            "\n"
          ]
        }
      ]
    }
  ]
}
